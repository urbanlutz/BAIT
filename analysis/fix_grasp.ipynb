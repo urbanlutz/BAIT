{
 "cells": [
  {
   "cell_type": "code",
   "execution_count": 2,
   "metadata": {},
   "outputs": [
    {
     "name": "stdout",
     "output_type": "stream",
     "text": [
      "Loading mnist dataset.\n",
      "Creating lottery-lenet_300_100 model.\n",
      "iterative pruning with mag until 0.2 sparsity in 2 steps with max 2 epochs of training\n",
      "starting with 100.0% weights remaining\n",
      "callback bake_rewind_state at iteration 0\n",
      "regular training for 2 epochs\n"
     ]
    },
    {
     "name": "stderr",
     "output_type": "stream",
     "text": [
      "100%|██████████| 2/2 [00:05<00:00,  2.96s/it]\n",
      "100%|██████████| 2/2 [00:00<00:00, 556.64it/s]\n"
     ]
    },
    {
     "name": "stdout",
     "output_type": "stream",
     "text": [
      "rewinding state at iteration 1876\n",
      "pruned to 60.0%\n",
      "regular training for 2 epochs\n"
     ]
    },
    {
     "name": "stderr",
     "output_type": "stream",
     "text": [
      "100%|██████████| 2/2 [00:05<00:00,  2.67s/it]\n",
      "100%|██████████| 2/2 [00:00<00:00, 555.83it/s]\n"
     ]
    },
    {
     "name": "stdout",
     "output_type": "stream",
     "text": [
      "pruned to 20.0%\n",
      "regular training for 2 epochs\n"
     ]
    },
    {
     "name": "stderr",
     "output_type": "stream",
     "text": [
      "100%|██████████| 2/2 [00:05<00:00,  2.80s/it]\n"
     ]
    }
   ],
   "source": [
    "import os\n",
    "os.chdir(\"/workspaces/BAIT\")\n",
    "from copy import copy\n",
    "from src.experiment import Experiment, get_instance_id, load_base_model_weights\n",
    "from src.phase_actions import run_phase\n",
    "from utils.params import ModelParams, DataParams, TrainingPhase, PruningPhase, IterativePruningPhase\n",
    "import re\n",
    "from datetime import datetime\n",
    "from utils.monitor import MONITOR\n",
    "import numpy as np\n",
    "import pandas as pd\n",
    "import torch\n",
    "import seaborn as sns\n",
    "from analysis.results_utils import *\n",
    "\n",
    "algo = \"mag\"\n",
    "sparsity = 0.2\n",
    "base_model_id = \"47ee372c-ce4a-11ec-8633-0242ac120002\"\n",
    "\n",
    "base_experiment = Experiment()\n",
    "base_experiment.repeats = 1 # single repeat but there will be 3 container instances resulting in 3 repeats\n",
    "\n",
    "base_experiment.model_params = ModelParams(model=\"lenet_300_100\", init_strategy=\"synflow\")\n",
    "base_experiment.data_params = DataParams(dataset=\"mnist\")\n",
    "expr = copy(base_experiment)\n",
    "expr.pruning_phases = [\n",
    "    IterativePruningPhase(\n",
    "        prune_params = PruningPhase(\n",
    "            strategy=algo,\n",
    "            sparsity=sparsity,\n",
    "            prune_epochs=2\n",
    "        ),\n",
    "        train_params = TrainingPhase(\n",
    "            train_epochs=2\n",
    "        ),\n",
    "        iterations = 2,\n",
    "        rewind = True\n",
    "    )\n",
    "]\n",
    "expr.name = f\"oneshot_{algo}_{sparsity}\"\n",
    "time = re.sub(\"[-_\\. :]\", \"\", str(datetime.now()))\n",
    "expr.full_name = f\"{expr.name}_{get_instance_id()}_{time}\"\n",
    "MONITOR.start(expr.full_name)\n",
    "s = State(expr.model_params, expr.data_params, expr)\n",
    "load_base_model_weights(base_model_id, s.model)\n",
    "s.base_model_id = base_model_id\n",
    "s.bake_initial_state()\n",
    "\n",
    "run_phase(s, expr.pruning_phases[0])"
   ]
  },
  {
   "cell_type": "code",
   "execution_count": 8,
   "metadata": {},
   "outputs": [
    {
     "data": {
      "text/plain": [
       "tensor([False, False,  True,  True])"
      ]
     },
     "execution_count": 8,
     "metadata": {},
     "output_type": "execute_result"
    }
   ],
   "source": [
    "torch.rand(4).round_() == 0"
   ]
  }
 ],
 "metadata": {
  "interpreter": {
   "hash": "d4d1e4263499bec80672ea0156c357c1ee493ec2b1c70f0acce89fc37c4a6abe"
  },
  "kernelspec": {
   "display_name": "Python 3.8.3 ('base')",
   "language": "python",
   "name": "python3"
  },
  "language_info": {
   "codemirror_mode": {
    "name": "ipython",
    "version": 3
   },
   "file_extension": ".py",
   "mimetype": "text/x-python",
   "name": "python",
   "nbconvert_exporter": "python",
   "pygments_lexer": "ipython3",
   "version": "3.8.12"
  },
  "orig_nbformat": 4
 },
 "nbformat": 4,
 "nbformat_minor": 2
}
