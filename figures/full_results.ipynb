{
 "cells": [
  {
   "cell_type": "code",
   "execution_count": 1,
   "metadata": {},
   "outputs": [],
   "source": [
    "import os\n",
    "os.chdir(\"/workspaces/BAIT\")\n",
    "from figures.fig_utils import *\n",
    "\n",
    "\n",
    "import numpy as np\n",
    "import pandas as pd\n",
    "import torch\n",
    "import seaborn as sns\n",
    "from analysis.results_utils import *"
   ]
  },
  {
   "cell_type": "code",
   "execution_count": 2,
   "metadata": {},
   "outputs": [],
   "source": [
    "df = load_csv()\n",
    "\n"
   ]
  },
  {
   "cell_type": "code",
   "execution_count": 14,
   "metadata": {},
   "outputs": [
    {
     "name": "stderr",
     "output_type": "stream",
     "text": [
      "/tmp/ipykernel_26622/792793262.py:2: FutureWarning: In future versions `DataFrame.to_latex` is expected to utilise the base implementation of `Styler.to_latex` for formatting and rendering. The arguments signature may therefore change. It is recommended instead to use `DataFrame.style.to_latex` which also contains additional functionality.\n",
      "  latextbl = df.groupby([\"phase_0_sparsity\", \"phase_0_strategy\", \"init_strategy\", \"type_short\"]).agg([\"mean\", \"std\"]).to_latex(longtable=True)\n"
     ]
    }
   ],
   "source": [
    "df = df[[\"init_strategy\", \"phase_0_strategy\", \"phase_0_sparsity\", \"type_short\", \"accuracy\", \"total_iterations\"]]\n",
    "latextbl = df.groupby([\"phase_0_sparsity\", \"phase_0_strategy\", \"init_strategy\", \"type_short\"]).agg([\"mean\", \"std\"]).to_latex(longtable=True)\n",
    "with open(\"figures/full_reference_table.tex\", \"w\") as f:\n",
    "    f.write(latextbl)\n"
   ]
  }
 ],
 "metadata": {
  "interpreter": {
   "hash": "d4d1e4263499bec80672ea0156c357c1ee493ec2b1c70f0acce89fc37c4a6abe"
  },
  "kernelspec": {
   "display_name": "Python 3.8.12 ('base')",
   "language": "python",
   "name": "python3"
  },
  "language_info": {
   "codemirror_mode": {
    "name": "ipython",
    "version": 3
   },
   "file_extension": ".py",
   "mimetype": "text/x-python",
   "name": "python",
   "nbconvert_exporter": "python",
   "pygments_lexer": "ipython3",
   "version": "3.8.12"
  },
  "orig_nbformat": 4
 },
 "nbformat": 4,
 "nbformat_minor": 2
}
