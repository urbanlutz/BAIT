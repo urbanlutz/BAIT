{
 "cells": [
  {
   "cell_type": "code",
   "execution_count": 1,
   "metadata": {},
   "outputs": [],
   "source": [
    "import os\n",
    "os.chdir(\"/workspaces/BAIT\")\n",
    "from analysis.results_utils import load_csv\n",
    "from figures.fig_utils import *\n",
    "\n",
    "import torch"
   ]
  },
  {
   "cell_type": "code",
   "execution_count": 2,
   "metadata": {},
   "outputs": [],
   "source": [
    "# general implementation of jaccard sim\n",
    "def jaccard_similarity(indices_a, indices_b):\n",
    "    A = set(indices_a)\n",
    "    B = set(indices_b)\n",
    "    nominator = A.intersection(B)\n",
    "    denominator = A.union(B)\n",
    "    similarity = len(nominator)/len(denominator)\n",
    "    return similarity\n",
    "\n",
    "def jaccard_of_masks(m_a, m_b):\n",
    "    indices_a = set(m_a.flatten().nonzero().detach().cpu().numpy().flatten())\n",
    "    indices_b = set(m_b.flatten().nonzero().detach().cpu().numpy().flatten())\n",
    "    return jaccard_similarity(indices_a, indices_b)\n",
    "\n",
    "def compare_files(file_a, file_b):\n",
    "    from analysis.results_utils import get_tensors\n",
    "\n",
    "    masks_a = get_tensors(files=[file_a], kind=\"mask\")\n",
    "    masks_b = get_tensors(files=[file_b], kind=\"mask\")\n",
    "\n",
    "    masks_at = [entry[\"t\"] for entry in masks_a]\n",
    "    indices_a = torch.concat([m.flatten() for m in masks_at]).nonzero().squeeze().tolist()\n",
    "    masks_bt = [entry[\"t\"] for entry in masks_b]\n",
    "    indices_b = torch.concat([m.flatten() for m in masks_bt]).nonzero().squeeze().tolist()\n",
    "\n",
    "    return jaccard_similarity(indices_a, indices_b)\n"
   ]
  },
  {
   "cell_type": "code",
   "execution_count": 8,
   "metadata": {},
   "outputs": [
    {
     "name": "stdout",
     "output_type": "stream",
     "text": [
      "get_tensors found 3 tensors\n",
      "get_tensors found 3 tensors\n"
     ]
    },
    {
     "data": {
      "text/plain": [
       "0.19300866447564985"
      ]
     },
     "execution_count": 8,
     "metadata": {},
     "output_type": "execute_result"
    }
   ],
   "source": [
    "df = load_csv()\n",
    "\n",
    "file_a = \"standard_o10_snip_0.01_6_20220523231812592640\"\n",
    "file_b = \"standard_o10_snip_0.005_6_20220523190229084583\"\n",
    "\n",
    "compare_files(file_a, file_b)"
   ]
  },
  {
   "cell_type": "code",
   "execution_count": 6,
   "metadata": {},
   "outputs": [
    {
     "data": {
      "text/html": [
       "<div>\n",
       "<style scoped>\n",
       "    .dataframe tbody tr th:only-of-type {\n",
       "        vertical-align: middle;\n",
       "    }\n",
       "\n",
       "    .dataframe tbody tr th {\n",
       "        vertical-align: top;\n",
       "    }\n",
       "\n",
       "    .dataframe thead th {\n",
       "        text-align: right;\n",
       "    }\n",
       "</style>\n",
       "<table border=\"1\" class=\"dataframe\">\n",
       "  <thead>\n",
       "    <tr style=\"text-align: right;\">\n",
       "      <th></th>\n",
       "      <th>base_model_id</th>\n",
       "      <th>name</th>\n",
       "      <th>count</th>\n",
       "    </tr>\n",
       "  </thead>\n",
       "  <tbody>\n",
       "    <tr>\n",
       "      <th>0</th>\n",
       "      <td>86b5a034-e11a-11ec-bb79-0242ac120002</td>\n",
       "      <td>[grasp_o10_grasp_0.004, grasp_o10_mag_0.004, g...</td>\n",
       "      <td>40</td>\n",
       "    </tr>\n",
       "  </tbody>\n",
       "</table>\n",
       "</div>"
      ],
      "text/plain": [
       "                          base_model_id  ... count\n",
       "0  86b5a034-e11a-11ec-bb79-0242ac120002  ...    40\n",
       "\n",
       "[1 rows x 3 columns]"
      ]
     },
     "execution_count": 6,
     "metadata": {},
     "output_type": "execute_result"
    }
   ],
   "source": [
    "init_strategy = \"grasp\"\n",
    "repeat_nr = 0\n",
    "name = \"grasp_o10_SNIPGraSPStacked_0.007\"\t\n",
    "\n",
    "df = load_csv()\n",
    "\n",
    "df = df.pivot_table(index = \"base_model_id\", columns=[\"name\", \"init_strategy\", \"repeat_nr\"], values =\"file\", aggfunc=\"sum\").melt(ignore_index = False).dropna().reset_index()\n",
    "df = df.query(f\"init_strategy == '{init_strategy}' and repeat_nr == {repeat_nr}\")[[\"base_model_id\", \"name\"]]\n",
    "df = df.groupby(\"base_model_id\")[\"name\"].apply(list).reset_index()\n",
    "df[\"count\"] = df[\"name\"].apply(lambda x: len(x))\n",
    "df[df[\"name\"].apply(lambda x: name not in x)].sort_values(\"count\", ascending = False)\n"
   ]
  },
  {
   "cell_type": "markdown",
   "metadata": {},
   "source": [
    "# Chapter 6"
   ]
  },
  {
   "cell_type": "markdown",
   "metadata": {},
   "source": [
    "## Similarity between baselines"
   ]
  },
  {
   "cell_type": "code",
   "execution_count": 7,
   "metadata": {},
   "outputs": [],
   "source": [
    "import numpy as np\n",
    "import pandas as pd\n",
    "import torch\n",
    "import seaborn as sns\n",
    "from analysis.results_utils import load_csv\n",
    "\n",
    "\n",
    "df = load_csv()\n",
    "# df = df.sort_values(by=\"accuracy\")\n",
    "df = df.sort_values(by=\"final_sparsity\")\n"
   ]
  },
  {
   "cell_type": "code",
   "execution_count": 17,
   "metadata": {},
   "outputs": [],
   "source": [
    "mapping = {\n",
    "    \"rand\": \"o1\",\n",
    "    \"mag\": \"i1\",\n",
    "    \"snip\": \"o1\",\n",
    "    \"grasp\": \"o1\",\n",
    "    \"synflow\": \"o10\",\n",
    "}\n",
    "sparsities = [0.5, 0.2, 0.1, 0.01, 0.005]\n",
    "\n",
    "\n",
    "baseline_query= \" or \".join([f'phase_0_strategy == \"{algo}\" and type_short == \"{type}\"' for algo, type in mapping.items()])\n",
    "\n",
    "\n",
    "df_bl = df.query(baseline_query).query(f\"final_sparsity in {sparsities}\").query(\"init_strategy == 'standard'\")\n",
    "files = df_bl.pivot_table(index=\"base_model_id\", columns=\"name\", values=\"file\", aggfunc=\"count\").dropna().melt(ignore_index=False).reset_index().rename(columns={\"value\":\"file\"})"
   ]
  },
  {
   "cell_type": "code",
   "execution_count": 18,
   "metadata": {},
   "outputs": [
    {
     "data": {
      "text/plain": [
       "{'5f1dd52e-dac5-11ec-b7f4-0242ac120004',\n",
       " '5f357f8a-dac5-11ec-831d-0242ac120002'}"
      ]
     },
     "execution_count": 18,
     "metadata": {},
     "output_type": "execute_result"
    }
   ],
   "source": [
    "# which inits contain all experiments necessary=\n",
    "\n",
    "\n",
    "def complete_inits(\n",
    "        mapping = {\n",
    "            \"rand\": \"o1\",\n",
    "            \"mag\": \"i1\",\n",
    "            \"snip\": \"o1\",\n",
    "            \"grasp\": \"o1\",\n",
    "            \"synflow\": \"o10\",\n",
    "        }, \n",
    "        sparsities = [0.5, 0.2, 0.1, 0.01, 0.005],\n",
    "    ):\n",
    "\n",
    "    baseline_query= \" or \".join([f'phase_0_strategy == \"{algo}\" and type_short == \"{type}\"' for algo, type in mapping.items()])\n",
    "\n",
    "\n",
    "    df_bl = df.query(baseline_query).query(f\"final_sparsity in {sparsities}\").query(\"init_strategy == 'standard'\")\n",
    "    files = df_bl.pivot_table(index=\"base_model_id\", columns=\"name\", values=\"file\", aggfunc=\"count\").dropna().melt(ignore_index=False).reset_index().rename(columns={\"value\":\"file\"})\n",
    "\n",
    "    return set(files[\"base_model_id\"]), df_bl, files\n",
    "\n",
    "complete_init_ids, df_bl, files = complete_inits()\n",
    "complete_init_ids\n"
   ]
  },
  {
   "cell_type": "code",
   "execution_count": 19,
   "metadata": {},
   "outputs": [
    {
     "ename": "RuntimeError",
     "evalue": "Attempting to deserialize object on a CUDA device but torch.cuda.is_available() is False. If you are running on a CPU-only machine, please use torch.load with map_location=torch.device('cpu') to map your storages to the CPU.",
     "output_type": "error",
     "traceback": [
      "\u001b[0;31m---------------------------------------------------------------------------\u001b[0m",
      "\u001b[0;31mRuntimeError\u001b[0m                              Traceback (most recent call last)",
      "\u001b[0;32m/tmp/ipykernel_645784/611062352.py\u001b[0m in \u001b[0;36m<module>\u001b[0;34m\u001b[0m\n\u001b[1;32m     15\u001b[0m             \u001b[0malg_a\u001b[0m \u001b[0;34m=\u001b[0m \u001b[0mdf_bl\u001b[0m\u001b[0;34m.\u001b[0m\u001b[0mquery\u001b[0m\u001b[0;34m(\u001b[0m\u001b[0;34mf\"file == '{file_a}'\"\u001b[0m\u001b[0;34m)\u001b[0m\u001b[0;34m.\u001b[0m\u001b[0miloc\u001b[0m\u001b[0;34m[\u001b[0m\u001b[0;36m0\u001b[0m\u001b[0;34m]\u001b[0m\u001b[0;34m[\u001b[0m\u001b[0;34m\"phase_0_strategy\"\u001b[0m\u001b[0;34m]\u001b[0m\u001b[0;34m\u001b[0m\u001b[0;34m\u001b[0m\u001b[0m\n\u001b[1;32m     16\u001b[0m             \u001b[0malg_b\u001b[0m \u001b[0;34m=\u001b[0m \u001b[0mdf_bl\u001b[0m\u001b[0;34m.\u001b[0m\u001b[0mquery\u001b[0m\u001b[0;34m(\u001b[0m\u001b[0;34mf\"file == '{file_b}'\"\u001b[0m\u001b[0;34m)\u001b[0m\u001b[0;34m.\u001b[0m\u001b[0miloc\u001b[0m\u001b[0;34m[\u001b[0m\u001b[0;36m0\u001b[0m\u001b[0;34m]\u001b[0m\u001b[0;34m[\u001b[0m\u001b[0;34m\"phase_0_strategy\"\u001b[0m\u001b[0;34m]\u001b[0m\u001b[0;34m\u001b[0m\u001b[0;34m\u001b[0m\u001b[0m\n\u001b[0;32m---> 17\u001b[0;31m             \u001b[0msim\u001b[0m \u001b[0;34m=\u001b[0m \u001b[0mcompare_files\u001b[0m\u001b[0;34m(\u001b[0m\u001b[0mfile_a\u001b[0m\u001b[0;34m,\u001b[0m \u001b[0mfile_b\u001b[0m\u001b[0;34m)\u001b[0m\u001b[0;34m\u001b[0m\u001b[0;34m\u001b[0m\u001b[0m\n\u001b[0m\u001b[1;32m     18\u001b[0m             results.append({\n\u001b[1;32m     19\u001b[0m                 \u001b[0;34m\"Algorithm A\"\u001b[0m\u001b[0;34m:\u001b[0m \u001b[0malg_a\u001b[0m\u001b[0;34m,\u001b[0m\u001b[0;34m\u001b[0m\u001b[0;34m\u001b[0m\u001b[0m\n",
      "\u001b[0;32m/tmp/ipykernel_645784/2249898846.py\u001b[0m in \u001b[0;36mcompare_files\u001b[0;34m(file_a, file_b)\u001b[0m\n\u001b[1;32m     16\u001b[0m     \u001b[0;32mfrom\u001b[0m \u001b[0manalysis\u001b[0m\u001b[0;34m.\u001b[0m\u001b[0mresults_utils\u001b[0m \u001b[0;32mimport\u001b[0m \u001b[0mget_tensors\u001b[0m\u001b[0;34m\u001b[0m\u001b[0;34m\u001b[0m\u001b[0m\n\u001b[1;32m     17\u001b[0m \u001b[0;34m\u001b[0m\u001b[0m\n\u001b[0;32m---> 18\u001b[0;31m     \u001b[0mmasks_a\u001b[0m \u001b[0;34m=\u001b[0m \u001b[0mget_tensors\u001b[0m\u001b[0;34m(\u001b[0m\u001b[0mfiles\u001b[0m\u001b[0;34m=\u001b[0m\u001b[0;34m[\u001b[0m\u001b[0mfile_a\u001b[0m\u001b[0;34m]\u001b[0m\u001b[0;34m,\u001b[0m \u001b[0mkind\u001b[0m\u001b[0;34m=\u001b[0m\u001b[0;34m\"mask\"\u001b[0m\u001b[0;34m)\u001b[0m\u001b[0;34m\u001b[0m\u001b[0;34m\u001b[0m\u001b[0m\n\u001b[0m\u001b[1;32m     19\u001b[0m     \u001b[0mmasks_b\u001b[0m \u001b[0;34m=\u001b[0m \u001b[0mget_tensors\u001b[0m\u001b[0;34m(\u001b[0m\u001b[0mfiles\u001b[0m\u001b[0;34m=\u001b[0m\u001b[0;34m[\u001b[0m\u001b[0mfile_b\u001b[0m\u001b[0;34m]\u001b[0m\u001b[0;34m,\u001b[0m \u001b[0mkind\u001b[0m\u001b[0;34m=\u001b[0m\u001b[0;34m\"mask\"\u001b[0m\u001b[0;34m)\u001b[0m\u001b[0;34m\u001b[0m\u001b[0;34m\u001b[0m\u001b[0m\n\u001b[1;32m     20\u001b[0m \u001b[0;34m\u001b[0m\u001b[0m\n",
      "\u001b[0;32m/workspaces/BAIT/analysis/results_utils.py\u001b[0m in \u001b[0;36mget_tensors\u001b[0;34m(init_id, sparsity, algo, experiment_type, layer_name, kind, masked, files, init_strategy)\u001b[0m\n\u001b[1;32m     95\u001b[0m \u001b[0;34m\u001b[0m\u001b[0m\n\u001b[1;32m     96\u001b[0m     \u001b[0;32mfor\u001b[0m \u001b[0mfile\u001b[0m \u001b[0;32min\u001b[0m \u001b[0mfiles\u001b[0m\u001b[0;34m:\u001b[0m\u001b[0;34m\u001b[0m\u001b[0;34m\u001b[0m\u001b[0m\n\u001b[0;32m---> 97\u001b[0;31m         \u001b[0mcs\u001b[0m \u001b[0;34m=\u001b[0m \u001b[0mload_and_convert_cached\u001b[0m\u001b[0;34m(\u001b[0m\u001b[0mfile\u001b[0m\u001b[0;34m)\u001b[0m\u001b[0;34m\u001b[0m\u001b[0;34m\u001b[0m\u001b[0m\n\u001b[0m\u001b[1;32m     98\u001b[0m         \u001b[0ms\u001b[0m \u001b[0;34m=\u001b[0m \u001b[0mload_state_cached\u001b[0m\u001b[0;34m(\u001b[0m\u001b[0mfile\u001b[0m\u001b[0;34m)\u001b[0m\u001b[0;34m\u001b[0m\u001b[0;34m\u001b[0m\u001b[0m\n\u001b[1;32m     99\u001b[0m         \u001b[0;32mfor\u001b[0m \u001b[0mloaded_layer_name\u001b[0m\u001b[0;34m,\u001b[0m \u001b[0mper_kind\u001b[0m \u001b[0;32min\u001b[0m \u001b[0mcs\u001b[0m\u001b[0;34m:\u001b[0m\u001b[0;34m\u001b[0m\u001b[0;34m\u001b[0m\u001b[0m\n",
      "\u001b[0;32m/workspaces/BAIT/analysis/results_utils.py\u001b[0m in \u001b[0;36mload_and_convert_cached\u001b[0;34m(file)\u001b[0m\n\u001b[1;32m    150\u001b[0m \u001b[0mCONVERTED_STATE_CACHE\u001b[0m \u001b[0;34m=\u001b[0m \u001b[0;34m{\u001b[0m\u001b[0;34m}\u001b[0m\u001b[0;34m\u001b[0m\u001b[0;34m\u001b[0m\u001b[0m\n\u001b[1;32m    151\u001b[0m \u001b[0;32mdef\u001b[0m \u001b[0mload_and_convert_cached\u001b[0m\u001b[0;34m(\u001b[0m\u001b[0mfile\u001b[0m\u001b[0;34m)\u001b[0m\u001b[0;34m:\u001b[0m\u001b[0;34m\u001b[0m\u001b[0;34m\u001b[0m\u001b[0m\n\u001b[0;32m--> 152\u001b[0;31m     \u001b[0ms\u001b[0m \u001b[0;34m=\u001b[0m \u001b[0mload_state_cached\u001b[0m\u001b[0;34m(\u001b[0m\u001b[0mfile\u001b[0m\u001b[0;34m)\u001b[0m\u001b[0;34m\u001b[0m\u001b[0;34m\u001b[0m\u001b[0m\n\u001b[0m\u001b[1;32m    153\u001b[0m     \u001b[0;32mif\u001b[0m \u001b[0mfile\u001b[0m \u001b[0;32min\u001b[0m \u001b[0mCONVERTED_STATE_CACHE\u001b[0m\u001b[0;34m:\u001b[0m\u001b[0;34m\u001b[0m\u001b[0;34m\u001b[0m\u001b[0m\n\u001b[1;32m    154\u001b[0m         \u001b[0;32mreturn\u001b[0m \u001b[0mCONVERTED_STATE_CACHE\u001b[0m\u001b[0;34m[\u001b[0m\u001b[0mfile\u001b[0m\u001b[0;34m]\u001b[0m\u001b[0;34m\u001b[0m\u001b[0;34m\u001b[0m\u001b[0m\n",
      "\u001b[0;32m/workspaces/BAIT/analysis/results_utils.py\u001b[0m in \u001b[0;36mload_state_cached\u001b[0;34m(file)\u001b[0m\n\u001b[1;32m    124\u001b[0m         \u001b[0;32mreturn\u001b[0m \u001b[0mSTATES_CACHE\u001b[0m\u001b[0;34m[\u001b[0m\u001b[0mfile\u001b[0m\u001b[0;34m]\u001b[0m\u001b[0;34m\u001b[0m\u001b[0;34m\u001b[0m\u001b[0m\n\u001b[1;32m    125\u001b[0m     \u001b[0;32melse\u001b[0m\u001b[0;34m:\u001b[0m\u001b[0;34m\u001b[0m\u001b[0;34m\u001b[0m\u001b[0m\n\u001b[0;32m--> 126\u001b[0;31m         \u001b[0mvalue\u001b[0m \u001b[0;34m=\u001b[0m \u001b[0mload_state\u001b[0m\u001b[0;34m(\u001b[0m\u001b[0mfile\u001b[0m\u001b[0;34m)\u001b[0m\u001b[0;34m\u001b[0m\u001b[0;34m\u001b[0m\u001b[0m\n\u001b[0m\u001b[1;32m    127\u001b[0m         \u001b[0mSTATES_CACHE\u001b[0m\u001b[0;34m[\u001b[0m\u001b[0mfile\u001b[0m\u001b[0;34m]\u001b[0m \u001b[0;34m=\u001b[0m \u001b[0mvalue\u001b[0m\u001b[0;34m\u001b[0m\u001b[0;34m\u001b[0m\u001b[0m\n\u001b[1;32m    128\u001b[0m         \u001b[0;32mreturn\u001b[0m \u001b[0mvalue\u001b[0m\u001b[0;34m\u001b[0m\u001b[0;34m\u001b[0m\u001b[0m\n",
      "\u001b[0;32m/workspaces/BAIT/analysis/results_utils.py\u001b[0m in \u001b[0;36mload_state\u001b[0;34m(file)\u001b[0m\n\u001b[1;32m    310\u001b[0m \u001b[0;32mdef\u001b[0m \u001b[0mload_state\u001b[0m\u001b[0;34m(\u001b[0m\u001b[0mfile\u001b[0m\u001b[0;34m)\u001b[0m \u001b[0;34m->\u001b[0m \u001b[0mState\u001b[0m\u001b[0;34m:\u001b[0m\u001b[0;34m\u001b[0m\u001b[0;34m\u001b[0m\u001b[0m\n\u001b[1;32m    311\u001b[0m     \u001b[0ms\u001b[0m \u001b[0;34m=\u001b[0m \u001b[0mState\u001b[0m\u001b[0;34m(\u001b[0m\u001b[0;34m)\u001b[0m\u001b[0;34m\u001b[0m\u001b[0;34m\u001b[0m\u001b[0m\n\u001b[0;32m--> 312\u001b[0;31m     \u001b[0ms\u001b[0m\u001b[0;34m.\u001b[0m\u001b[0mload\u001b[0m\u001b[0;34m(\u001b[0m\u001b[0mfile\u001b[0m\u001b[0;34m,\u001b[0m \u001b[0mload_data\u001b[0m\u001b[0;34m=\u001b[0m\u001b[0;32mFalse\u001b[0m\u001b[0;34m)\u001b[0m\u001b[0;34m\u001b[0m\u001b[0;34m\u001b[0m\u001b[0m\n\u001b[0m\u001b[1;32m    313\u001b[0m     \u001b[0;32mtry\u001b[0m\u001b[0;34m:\u001b[0m\u001b[0;34m\u001b[0m\u001b[0;34m\u001b[0m\u001b[0m\n\u001b[1;32m    314\u001b[0m         \u001b[0ms\u001b[0m\u001b[0;34m.\u001b[0m\u001b[0mtest_loader\u001b[0m \u001b[0;34m=\u001b[0m \u001b[0mDATA_LOADERS\u001b[0m\u001b[0;34m[\u001b[0m\u001b[0ms\u001b[0m\u001b[0;34m.\u001b[0m\u001b[0mconfig\u001b[0m\u001b[0;34m.\u001b[0m\u001b[0mdata_params\u001b[0m\u001b[0;34m.\u001b[0m\u001b[0mdataset\u001b[0m\u001b[0;34m]\u001b[0m\u001b[0;34m\u001b[0m\u001b[0;34m\u001b[0m\u001b[0m\n",
      "\u001b[0;32m/workspaces/BAIT/utils/state.py\u001b[0m in \u001b[0;36mload\u001b[0;34m(self, name, load_data)\u001b[0m\n\u001b[1;32m     95\u001b[0m         \u001b[0msuffix\u001b[0m \u001b[0;34m=\u001b[0m \u001b[0;34m\"\"\u001b[0m \u001b[0;32mif\u001b[0m \u001b[0mname\u001b[0m\u001b[0;34m.\u001b[0m\u001b[0mendswith\u001b[0m\u001b[0;34m(\u001b[0m\u001b[0;34m\".pt\"\u001b[0m\u001b[0;34m)\u001b[0m \u001b[0;32melse\u001b[0m \u001b[0;34m\".pt\"\u001b[0m\u001b[0;34m\u001b[0m\u001b[0;34m\u001b[0m\u001b[0m\n\u001b[1;32m     96\u001b[0m         \u001b[0mfile_path\u001b[0m \u001b[0;34m=\u001b[0m \u001b[0;34mf\"{DEFAULT_SAVE_LOCATION}/{name}{suffix}\"\u001b[0m\u001b[0;34m\u001b[0m\u001b[0;34m\u001b[0m\u001b[0m\n\u001b[0;32m---> 97\u001b[0;31m         \u001b[0mself\u001b[0m\u001b[0;34m.\u001b[0m\u001b[0m__dict__\u001b[0m\u001b[0;34m.\u001b[0m\u001b[0mupdate\u001b[0m\u001b[0;34m(\u001b[0m\u001b[0;34m**\u001b[0m\u001b[0mtorch\u001b[0m\u001b[0;34m.\u001b[0m\u001b[0mload\u001b[0m\u001b[0;34m(\u001b[0m\u001b[0mfile_path\u001b[0m\u001b[0;34m,\u001b[0m \u001b[0mpickle_module\u001b[0m\u001b[0;34m=\u001b[0m\u001b[0mdill\u001b[0m\u001b[0;34m)\u001b[0m\u001b[0;34m)\u001b[0m\u001b[0;34m\u001b[0m\u001b[0;34m\u001b[0m\u001b[0m\n\u001b[0m\u001b[1;32m     98\u001b[0m         \u001b[0;32mif\u001b[0m \u001b[0mload_data\u001b[0m\u001b[0;34m:\u001b[0m\u001b[0;34m\u001b[0m\u001b[0;34m\u001b[0m\u001b[0m\n\u001b[1;32m     99\u001b[0m             \u001b[0mprepare_data\u001b[0m\u001b[0;34m(\u001b[0m\u001b[0mself\u001b[0m\u001b[0;34m,\u001b[0m \u001b[0mself\u001b[0m\u001b[0;34m.\u001b[0m\u001b[0mconfig\u001b[0m\u001b[0;34m.\u001b[0m\u001b[0mdata_params\u001b[0m\u001b[0;34m)\u001b[0m\u001b[0;34m\u001b[0m\u001b[0;34m\u001b[0m\u001b[0m\n",
      "\u001b[0;32m/opt/conda/lib/python3.8/site-packages/torch/serialization.py\u001b[0m in \u001b[0;36mload\u001b[0;34m(f, map_location, pickle_module, **pickle_load_args)\u001b[0m\n\u001b[1;32m    710\u001b[0m                     \u001b[0mopened_file\u001b[0m\u001b[0;34m.\u001b[0m\u001b[0mseek\u001b[0m\u001b[0;34m(\u001b[0m\u001b[0morig_position\u001b[0m\u001b[0;34m)\u001b[0m\u001b[0;34m\u001b[0m\u001b[0;34m\u001b[0m\u001b[0m\n\u001b[1;32m    711\u001b[0m                     \u001b[0;32mreturn\u001b[0m \u001b[0mtorch\u001b[0m\u001b[0;34m.\u001b[0m\u001b[0mjit\u001b[0m\u001b[0;34m.\u001b[0m\u001b[0mload\u001b[0m\u001b[0;34m(\u001b[0m\u001b[0mopened_file\u001b[0m\u001b[0;34m)\u001b[0m\u001b[0;34m\u001b[0m\u001b[0;34m\u001b[0m\u001b[0m\n\u001b[0;32m--> 712\u001b[0;31m                 \u001b[0;32mreturn\u001b[0m \u001b[0m_load\u001b[0m\u001b[0;34m(\u001b[0m\u001b[0mopened_zipfile\u001b[0m\u001b[0;34m,\u001b[0m \u001b[0mmap_location\u001b[0m\u001b[0;34m,\u001b[0m \u001b[0mpickle_module\u001b[0m\u001b[0;34m,\u001b[0m \u001b[0;34m**\u001b[0m\u001b[0mpickle_load_args\u001b[0m\u001b[0;34m)\u001b[0m\u001b[0;34m\u001b[0m\u001b[0;34m\u001b[0m\u001b[0m\n\u001b[0m\u001b[1;32m    713\u001b[0m         \u001b[0;32mreturn\u001b[0m \u001b[0m_legacy_load\u001b[0m\u001b[0;34m(\u001b[0m\u001b[0mopened_file\u001b[0m\u001b[0;34m,\u001b[0m \u001b[0mmap_location\u001b[0m\u001b[0;34m,\u001b[0m \u001b[0mpickle_module\u001b[0m\u001b[0;34m,\u001b[0m \u001b[0;34m**\u001b[0m\u001b[0mpickle_load_args\u001b[0m\u001b[0;34m)\u001b[0m\u001b[0;34m\u001b[0m\u001b[0;34m\u001b[0m\u001b[0m\n\u001b[1;32m    714\u001b[0m \u001b[0;34m\u001b[0m\u001b[0m\n",
      "\u001b[0;32m/opt/conda/lib/python3.8/site-packages/torch/serialization.py\u001b[0m in \u001b[0;36m_load\u001b[0;34m(zip_file, map_location, pickle_module, pickle_file, **pickle_load_args)\u001b[0m\n\u001b[1;32m   1044\u001b[0m     \u001b[0munpickler\u001b[0m \u001b[0;34m=\u001b[0m \u001b[0mUnpicklerWrapper\u001b[0m\u001b[0;34m(\u001b[0m\u001b[0mdata_file\u001b[0m\u001b[0;34m,\u001b[0m \u001b[0;34m**\u001b[0m\u001b[0mpickle_load_args\u001b[0m\u001b[0;34m)\u001b[0m\u001b[0;34m\u001b[0m\u001b[0;34m\u001b[0m\u001b[0m\n\u001b[1;32m   1045\u001b[0m     \u001b[0munpickler\u001b[0m\u001b[0;34m.\u001b[0m\u001b[0mpersistent_load\u001b[0m \u001b[0;34m=\u001b[0m \u001b[0mpersistent_load\u001b[0m\u001b[0;34m\u001b[0m\u001b[0;34m\u001b[0m\u001b[0m\n\u001b[0;32m-> 1046\u001b[0;31m     \u001b[0mresult\u001b[0m \u001b[0;34m=\u001b[0m \u001b[0munpickler\u001b[0m\u001b[0;34m.\u001b[0m\u001b[0mload\u001b[0m\u001b[0;34m(\u001b[0m\u001b[0;34m)\u001b[0m\u001b[0;34m\u001b[0m\u001b[0;34m\u001b[0m\u001b[0m\n\u001b[0m\u001b[1;32m   1047\u001b[0m \u001b[0;34m\u001b[0m\u001b[0m\n\u001b[1;32m   1048\u001b[0m     \u001b[0mtorch\u001b[0m\u001b[0;34m.\u001b[0m\u001b[0m_utils\u001b[0m\u001b[0;34m.\u001b[0m\u001b[0m_validate_loaded_sparse_tensors\u001b[0m\u001b[0;34m(\u001b[0m\u001b[0;34m)\u001b[0m\u001b[0;34m\u001b[0m\u001b[0;34m\u001b[0m\u001b[0m\n",
      "\u001b[0;32m/opt/conda/lib/python3.8/site-packages/dill/_dill.py\u001b[0m in \u001b[0;36mload\u001b[0;34m(self)\u001b[0m\n\u001b[1;32m    644\u001b[0m \u001b[0;34m\u001b[0m\u001b[0m\n\u001b[1;32m    645\u001b[0m     \u001b[0;32mdef\u001b[0m \u001b[0mload\u001b[0m\u001b[0;34m(\u001b[0m\u001b[0mself\u001b[0m\u001b[0;34m)\u001b[0m\u001b[0;34m:\u001b[0m \u001b[0;31m#NOTE: if settings change, need to update attributes\u001b[0m\u001b[0;34m\u001b[0m\u001b[0;34m\u001b[0m\u001b[0m\n\u001b[0;32m--> 646\u001b[0;31m         \u001b[0mobj\u001b[0m \u001b[0;34m=\u001b[0m \u001b[0mStockUnpickler\u001b[0m\u001b[0;34m.\u001b[0m\u001b[0mload\u001b[0m\u001b[0;34m(\u001b[0m\u001b[0mself\u001b[0m\u001b[0;34m)\u001b[0m\u001b[0;34m\u001b[0m\u001b[0;34m\u001b[0m\u001b[0m\n\u001b[0m\u001b[1;32m    647\u001b[0m         \u001b[0;32mif\u001b[0m \u001b[0mtype\u001b[0m\u001b[0;34m(\u001b[0m\u001b[0mobj\u001b[0m\u001b[0;34m)\u001b[0m\u001b[0;34m.\u001b[0m\u001b[0m__module__\u001b[0m \u001b[0;34m==\u001b[0m \u001b[0mgetattr\u001b[0m\u001b[0;34m(\u001b[0m\u001b[0m_main_module\u001b[0m\u001b[0;34m,\u001b[0m \u001b[0;34m'__name__'\u001b[0m\u001b[0;34m,\u001b[0m \u001b[0;34m'__main__'\u001b[0m\u001b[0;34m)\u001b[0m\u001b[0;34m:\u001b[0m\u001b[0;34m\u001b[0m\u001b[0;34m\u001b[0m\u001b[0m\n\u001b[1;32m    648\u001b[0m             \u001b[0;32mif\u001b[0m \u001b[0;32mnot\u001b[0m \u001b[0mself\u001b[0m\u001b[0;34m.\u001b[0m\u001b[0m_ignore\u001b[0m\u001b[0;34m:\u001b[0m\u001b[0;34m\u001b[0m\u001b[0;34m\u001b[0m\u001b[0m\n",
      "\u001b[0;32m/opt/conda/lib/python3.8/site-packages/torch/serialization.py\u001b[0m in \u001b[0;36mpersistent_load\u001b[0;34m(saved_id)\u001b[0m\n\u001b[1;32m   1014\u001b[0m         \u001b[0;32mif\u001b[0m \u001b[0mkey\u001b[0m \u001b[0;32mnot\u001b[0m \u001b[0;32min\u001b[0m \u001b[0mloaded_storages\u001b[0m\u001b[0;34m:\u001b[0m\u001b[0;34m\u001b[0m\u001b[0;34m\u001b[0m\u001b[0m\n\u001b[1;32m   1015\u001b[0m             \u001b[0mnbytes\u001b[0m \u001b[0;34m=\u001b[0m \u001b[0mnumel\u001b[0m \u001b[0;34m*\u001b[0m \u001b[0mtorch\u001b[0m\u001b[0;34m.\u001b[0m\u001b[0m_utils\u001b[0m\u001b[0;34m.\u001b[0m\u001b[0m_element_size\u001b[0m\u001b[0;34m(\u001b[0m\u001b[0mdtype\u001b[0m\u001b[0;34m)\u001b[0m\u001b[0;34m\u001b[0m\u001b[0;34m\u001b[0m\u001b[0m\n\u001b[0;32m-> 1016\u001b[0;31m             \u001b[0mload_tensor\u001b[0m\u001b[0;34m(\u001b[0m\u001b[0mdtype\u001b[0m\u001b[0;34m,\u001b[0m \u001b[0mnbytes\u001b[0m\u001b[0;34m,\u001b[0m \u001b[0mkey\u001b[0m\u001b[0;34m,\u001b[0m \u001b[0m_maybe_decode_ascii\u001b[0m\u001b[0;34m(\u001b[0m\u001b[0mlocation\u001b[0m\u001b[0;34m)\u001b[0m\u001b[0;34m)\u001b[0m\u001b[0;34m\u001b[0m\u001b[0;34m\u001b[0m\u001b[0m\n\u001b[0m\u001b[1;32m   1017\u001b[0m \u001b[0;34m\u001b[0m\u001b[0m\n\u001b[1;32m   1018\u001b[0m         \u001b[0;32mreturn\u001b[0m \u001b[0mloaded_storages\u001b[0m\u001b[0;34m[\u001b[0m\u001b[0mkey\u001b[0m\u001b[0;34m]\u001b[0m\u001b[0;34m\u001b[0m\u001b[0;34m\u001b[0m\u001b[0m\n",
      "\u001b[0;32m/opt/conda/lib/python3.8/site-packages/torch/serialization.py\u001b[0m in \u001b[0;36mload_tensor\u001b[0;34m(dtype, numel, key, location)\u001b[0m\n\u001b[1;32m    999\u001b[0m         \u001b[0;31m# stop wrapping with _TypedStorage\u001b[0m\u001b[0;34m\u001b[0m\u001b[0;34m\u001b[0m\u001b[0;34m\u001b[0m\u001b[0m\n\u001b[1;32m   1000\u001b[0m         loaded_storages[key] = torch.storage._TypedStorage(\n\u001b[0;32m-> 1001\u001b[0;31m             \u001b[0mwrap_storage\u001b[0m\u001b[0;34m=\u001b[0m\u001b[0mrestore_location\u001b[0m\u001b[0;34m(\u001b[0m\u001b[0mstorage\u001b[0m\u001b[0;34m,\u001b[0m \u001b[0mlocation\u001b[0m\u001b[0;34m)\u001b[0m\u001b[0;34m,\u001b[0m\u001b[0;34m\u001b[0m\u001b[0;34m\u001b[0m\u001b[0m\n\u001b[0m\u001b[1;32m   1002\u001b[0m             dtype=dtype)\n\u001b[1;32m   1003\u001b[0m \u001b[0;34m\u001b[0m\u001b[0m\n",
      "\u001b[0;32m/opt/conda/lib/python3.8/site-packages/torch/serialization.py\u001b[0m in \u001b[0;36mdefault_restore_location\u001b[0;34m(storage, location)\u001b[0m\n\u001b[1;32m    174\u001b[0m \u001b[0;32mdef\u001b[0m \u001b[0mdefault_restore_location\u001b[0m\u001b[0;34m(\u001b[0m\u001b[0mstorage\u001b[0m\u001b[0;34m,\u001b[0m \u001b[0mlocation\u001b[0m\u001b[0;34m)\u001b[0m\u001b[0;34m:\u001b[0m\u001b[0;34m\u001b[0m\u001b[0;34m\u001b[0m\u001b[0m\n\u001b[1;32m    175\u001b[0m     \u001b[0;32mfor\u001b[0m \u001b[0m_\u001b[0m\u001b[0;34m,\u001b[0m \u001b[0m_\u001b[0m\u001b[0;34m,\u001b[0m \u001b[0mfn\u001b[0m \u001b[0;32min\u001b[0m \u001b[0m_package_registry\u001b[0m\u001b[0;34m:\u001b[0m\u001b[0;34m\u001b[0m\u001b[0;34m\u001b[0m\u001b[0m\n\u001b[0;32m--> 176\u001b[0;31m         \u001b[0mresult\u001b[0m \u001b[0;34m=\u001b[0m \u001b[0mfn\u001b[0m\u001b[0;34m(\u001b[0m\u001b[0mstorage\u001b[0m\u001b[0;34m,\u001b[0m \u001b[0mlocation\u001b[0m\u001b[0;34m)\u001b[0m\u001b[0;34m\u001b[0m\u001b[0;34m\u001b[0m\u001b[0m\n\u001b[0m\u001b[1;32m    177\u001b[0m         \u001b[0;32mif\u001b[0m \u001b[0mresult\u001b[0m \u001b[0;32mis\u001b[0m \u001b[0;32mnot\u001b[0m \u001b[0;32mNone\u001b[0m\u001b[0;34m:\u001b[0m\u001b[0;34m\u001b[0m\u001b[0;34m\u001b[0m\u001b[0m\n\u001b[1;32m    178\u001b[0m             \u001b[0;32mreturn\u001b[0m \u001b[0mresult\u001b[0m\u001b[0;34m\u001b[0m\u001b[0;34m\u001b[0m\u001b[0m\n",
      "\u001b[0;32m/opt/conda/lib/python3.8/site-packages/torch/serialization.py\u001b[0m in \u001b[0;36m_cuda_deserialize\u001b[0;34m(obj, location)\u001b[0m\n\u001b[1;32m    150\u001b[0m \u001b[0;32mdef\u001b[0m \u001b[0m_cuda_deserialize\u001b[0m\u001b[0;34m(\u001b[0m\u001b[0mobj\u001b[0m\u001b[0;34m,\u001b[0m \u001b[0mlocation\u001b[0m\u001b[0;34m)\u001b[0m\u001b[0;34m:\u001b[0m\u001b[0;34m\u001b[0m\u001b[0;34m\u001b[0m\u001b[0m\n\u001b[1;32m    151\u001b[0m     \u001b[0;32mif\u001b[0m \u001b[0mlocation\u001b[0m\u001b[0;34m.\u001b[0m\u001b[0mstartswith\u001b[0m\u001b[0;34m(\u001b[0m\u001b[0;34m'cuda'\u001b[0m\u001b[0;34m)\u001b[0m\u001b[0;34m:\u001b[0m\u001b[0;34m\u001b[0m\u001b[0;34m\u001b[0m\u001b[0m\n\u001b[0;32m--> 152\u001b[0;31m         \u001b[0mdevice\u001b[0m \u001b[0;34m=\u001b[0m \u001b[0mvalidate_cuda_device\u001b[0m\u001b[0;34m(\u001b[0m\u001b[0mlocation\u001b[0m\u001b[0;34m)\u001b[0m\u001b[0;34m\u001b[0m\u001b[0;34m\u001b[0m\u001b[0m\n\u001b[0m\u001b[1;32m    153\u001b[0m         \u001b[0;32mif\u001b[0m \u001b[0mgetattr\u001b[0m\u001b[0;34m(\u001b[0m\u001b[0mobj\u001b[0m\u001b[0;34m,\u001b[0m \u001b[0;34m\"_torch_load_uninitialized\"\u001b[0m\u001b[0;34m,\u001b[0m \u001b[0;32mFalse\u001b[0m\u001b[0;34m)\u001b[0m\u001b[0;34m:\u001b[0m\u001b[0;34m\u001b[0m\u001b[0;34m\u001b[0m\u001b[0m\n\u001b[1;32m    154\u001b[0m             \u001b[0mstorage_type\u001b[0m \u001b[0;34m=\u001b[0m \u001b[0mgetattr\u001b[0m\u001b[0;34m(\u001b[0m\u001b[0mtorch\u001b[0m\u001b[0;34m.\u001b[0m\u001b[0mcuda\u001b[0m\u001b[0;34m,\u001b[0m \u001b[0mtype\u001b[0m\u001b[0;34m(\u001b[0m\u001b[0mobj\u001b[0m\u001b[0;34m)\u001b[0m\u001b[0;34m.\u001b[0m\u001b[0m__name__\u001b[0m\u001b[0;34m)\u001b[0m\u001b[0;34m\u001b[0m\u001b[0;34m\u001b[0m\u001b[0m\n",
      "\u001b[0;32m/opt/conda/lib/python3.8/site-packages/torch/serialization.py\u001b[0m in \u001b[0;36mvalidate_cuda_device\u001b[0;34m(location)\u001b[0m\n\u001b[1;32m    134\u001b[0m \u001b[0;34m\u001b[0m\u001b[0m\n\u001b[1;32m    135\u001b[0m     \u001b[0;32mif\u001b[0m \u001b[0;32mnot\u001b[0m \u001b[0mtorch\u001b[0m\u001b[0;34m.\u001b[0m\u001b[0mcuda\u001b[0m\u001b[0;34m.\u001b[0m\u001b[0mis_available\u001b[0m\u001b[0;34m(\u001b[0m\u001b[0;34m)\u001b[0m\u001b[0;34m:\u001b[0m\u001b[0;34m\u001b[0m\u001b[0;34m\u001b[0m\u001b[0m\n\u001b[0;32m--> 136\u001b[0;31m         raise RuntimeError('Attempting to deserialize object on a CUDA '\n\u001b[0m\u001b[1;32m    137\u001b[0m                            \u001b[0;34m'device but torch.cuda.is_available() is False. '\u001b[0m\u001b[0;34m\u001b[0m\u001b[0;34m\u001b[0m\u001b[0m\n\u001b[1;32m    138\u001b[0m                            \u001b[0;34m'If you are running on a CPU-only machine, '\u001b[0m\u001b[0;34m\u001b[0m\u001b[0;34m\u001b[0m\u001b[0m\n",
      "\u001b[0;31mRuntimeError\u001b[0m: Attempting to deserialize object on a CUDA device but torch.cuda.is_available() is False. If you are running on a CPU-only machine, please use torch.load with map_location=torch.device('cpu') to map your storages to the CPU."
     ]
    }
   ],
   "source": [
    "\n",
    "results = []\n",
    "for base_model_id in complete_init_ids:\n",
    "    # base_model_id = \"5f1dd52e-dac5-11ec-b7f4-0242ac120004\"\n",
    "\n",
    "    df_bl_init = df_bl[df_bl[\"base_model_id\"] == base_model_id]\n",
    "\n",
    "    for sparsity in [0.5, 0.2, 0.1, 0.01, 0.005]:\n",
    "        # sparsity = 0.005\n",
    "        df_bl_init_sparsity = df_bl_init[df_bl_init[\"final_sparsity\"] == sparsity]\n",
    "        all_files = set(df_bl_init_sparsity[\"file\"])\n",
    "\n",
    "        from itertools import product\n",
    "\n",
    "        for file_a, file_b in list(product(all_files, all_files)):\n",
    "            alg_a = df_bl.query(f\"file == '{file_a}'\").iloc[0][\"phase_0_strategy\"]\n",
    "            alg_b = df_bl.query(f\"file == '{file_b}'\").iloc[0][\"phase_0_strategy\"]\n",
    "            sim = compare_files(file_a, file_b)\n",
    "            results.append({\n",
    "                \"Algorithm A\": alg_a,\n",
    "                \"Algorithm B\": alg_b,\n",
    "                \"Combination\": f\"{alg_a}-{alg_b}\",\n",
    "                \"Sparsity\": sparsity,\n",
    "                \"Jaccard Similarity\": sim\n",
    "\n",
    "            })\n",
    "\n",
    "import seaborn as sns\n",
    "\n",
    "\n",
    "g = sns.relplot(data=pd.DataFrame(results), x =\"Sparsity\", y=\"Jaccard Similarity\", hue=\"Algorithm B\", col=\"Algorithm A\", kind=\"line\", err_style=\"bars\", height=4, aspect=.6)\n",
    "g.set(\n",
    "    xlim=(1, 0.004),\n",
    "    ylim=(0, 1),\n",
    "    xscale=\"log\",\n",
    "    )\n",
    "\n",
    "savefig(g, \"5_baseline_overlap\")"
   ]
  },
  {
   "cell_type": "markdown",
   "metadata": {},
   "source": [
    "# compare o and i pairs"
   ]
  },
  {
   "cell_type": "code",
   "execution_count": null,
   "metadata": {},
   "outputs": [
    {
     "data": {
      "text/plain": [
       "('mag', 0.1, '5f1dd52e-dac5-11ec-b7f4-0242ac120004')"
      ]
     },
     "execution_count": 27,
     "metadata": {},
     "output_type": "execute_result"
    }
   ],
   "source": [
    "algo, sparsity, init_id"
   ]
  },
  {
   "cell_type": "code",
   "execution_count": null,
   "metadata": {},
   "outputs": [
    {
     "name": "stdout",
     "output_type": "stream",
     "text": [
      "get_tensors found 3 tensors\n",
      "get_tensors found 3 tensors\n",
      "get_tensors found 3 tensors\n",
      "get_tensors found 3 tensors\n",
      "get_tensors found 3 tensors\n",
      "get_tensors found 3 tensors\n",
      "get_tensors found 3 tensors\n",
      "get_tensors found 3 tensors\n",
      "get_tensors found 3 tensors\n",
      "get_tensors found 3 tensors\n",
      "get_tensors found 3 tensors\n",
      "get_tensors found 3 tensors\n",
      "get_tensors found 3 tensors\n",
      "get_tensors found 3 tensors\n",
      "get_tensors found 3 tensors\n",
      "get_tensors found 3 tensors\n",
      "get_tensors found 3 tensors\n",
      "get_tensors found 3 tensors\n",
      "get_tensors found 3 tensors\n",
      "get_tensors found 3 tensors\n",
      "get_tensors found 3 tensors\n",
      "get_tensors found 3 tensors\n",
      "get_tensors found 3 tensors\n",
      "get_tensors found 3 tensors\n",
      "get_tensors found 3 tensors\n",
      "get_tensors found 3 tensors\n",
      "get_tensors found 3 tensors\n",
      "get_tensors found 3 tensors\n",
      "get_tensors found 3 tensors\n",
      "get_tensors found 3 tensors\n",
      "get_tensors found 3 tensors\n",
      "get_tensors found 3 tensors\n",
      "get_tensors found 3 tensors\n",
      "get_tensors found 3 tensors\n",
      "get_tensors found 3 tensors\n",
      "get_tensors found 3 tensors\n",
      "get_tensors found 3 tensors\n",
      "get_tensors found 3 tensors\n",
      "get_tensors found 3 tensors\n",
      "get_tensors found 3 tensors\n",
      "get_tensors found 3 tensors\n",
      "get_tensors found 3 tensors\n",
      "get_tensors found 3 tensors\n",
      "get_tensors found 3 tensors\n",
      "get_tensors found 3 tensors\n",
      "get_tensors found 3 tensors\n",
      "get_tensors found 3 tensors\n",
      "get_tensors found 3 tensors\n",
      "get_tensors found 3 tensors\n",
      "get_tensors found 3 tensors\n",
      "get_tensors found 3 tensors\n",
      "get_tensors found 3 tensors\n",
      "get_tensors found 3 tensors\n",
      "get_tensors found 3 tensors\n",
      "get_tensors found 3 tensors\n",
      "get_tensors found 3 tensors\n",
      "get_tensors found 3 tensors\n",
      "get_tensors found 3 tensors\n",
      "get_tensors found 3 tensors\n",
      "get_tensors found 3 tensors\n",
      "get_tensors found 3 tensors\n",
      "get_tensors found 3 tensors\n",
      "get_tensors found 3 tensors\n",
      "get_tensors found 3 tensors\n"
     ]
    }
   ],
   "source": [
    "# endresult: single plot, each line a similarity between o and i\n",
    "algos = [\"mag\", \"snip\", \"grasp\", \"synflow\"]\n",
    "sparsities = [0.5, 0.2, 0.01, 0.005]\n",
    "\n",
    "mapping = {\n",
    "    \"mag\": 1,\n",
    "    \"snip\": 1,\n",
    "    \"grasp\": 1,\n",
    "    \"synflow\": 10\n",
    "}\n",
    "df = load_csv()\n",
    "results = []\n",
    "for init_id in {'5f1dd52e-dac5-11ec-b7f4-0242ac120004', '5f357f8a-dac5-11ec-831d-0242ac120002'}:\n",
    "    for sparsity in sparsities:\n",
    "        for algo in algos:\n",
    "            df_algo = df.query(f\"base_model_id == '{init_id}' and phase_0_strategy == '{algo}' and final_sparsity == {sparsity} and init_strategy == 'standard'\")\n",
    "            o_file= df_algo.query(f\"type_short == 'o{mapping[algo]}'\").iloc[0][\"file\"]\n",
    "            i_file= df_algo.query(f\"type_short == 'i{mapping[algo]}'\").iloc[0][\"file\"]\n",
    "            sim = compare_files(o_file, i_file)\n",
    "            results.append({\n",
    "                \"Combination\": f\"{algo}: o{mapping[algo]} - i{mapping[algo]}\",\n",
    "                \"Sparsity\": sparsity,\n",
    "                \"Jaccard Similarity\": sim\n",
    "\n",
    "            })\n",
    "\n",
    "g = sns.relplot(data=pd.DataFrame(results), x =\"Sparsity\", y=\"Jaccard Similarity\", hue=\"Combination\", kind=\"line\", err_style=\"bars\", height=4, aspect=1)\n",
    "g.set(\n",
    "    xlim=(1, 0.004),\n",
    "    ylim=(0, 1),\n",
    "    xscale=\"log\",\n",
    "    )\n",
    "\n",
    "savefig(g, \"5_baseline_overlap_o-i\")"
   ]
  },
  {
   "cell_type": "code",
   "execution_count": null,
   "metadata": {},
   "outputs": [
    {
     "name": "stdout",
     "output_type": "stream",
     "text": [
      "get_tensors found 3 tensors\n",
      "get_tensors found 3 tensors\n",
      "get_tensors found 3 tensors\n",
      "get_tensors found 3 tensors\n",
      "get_tensors found 3 tensors\n",
      "get_tensors found 3 tensors\n",
      "get_tensors found 3 tensors\n",
      "get_tensors found 3 tensors\n",
      "get_tensors found 3 tensors\n",
      "get_tensors found 3 tensors\n",
      "get_tensors found 3 tensors\n",
      "get_tensors found 3 tensors\n",
      "get_tensors found 3 tensors\n",
      "get_tensors found 3 tensors\n",
      "get_tensors found 3 tensors\n",
      "get_tensors found 3 tensors\n",
      "get_tensors found 3 tensors\n",
      "get_tensors found 3 tensors\n",
      "get_tensors found 3 tensors\n",
      "get_tensors found 3 tensors\n",
      "get_tensors found 3 tensors\n",
      "get_tensors found 3 tensors\n",
      "get_tensors found 3 tensors\n",
      "get_tensors found 3 tensors\n",
      "get_tensors found 3 tensors\n",
      "get_tensors found 3 tensors\n",
      "get_tensors found 3 tensors\n",
      "get_tensors found 3 tensors\n",
      "get_tensors found 3 tensors\n",
      "get_tensors found 3 tensors\n",
      "get_tensors found 3 tensors\n",
      "get_tensors found 3 tensors\n",
      "get_tensors found 3 tensors\n",
      "get_tensors found 3 tensors\n",
      "get_tensors found 3 tensors\n",
      "get_tensors found 3 tensors\n",
      "get_tensors found 3 tensors\n",
      "get_tensors found 3 tensors\n",
      "get_tensors found 3 tensors\n",
      "get_tensors found 3 tensors\n",
      "get_tensors found 3 tensors\n",
      "get_tensors found 3 tensors\n",
      "get_tensors found 3 tensors\n",
      "get_tensors found 3 tensors\n",
      "get_tensors found 3 tensors\n",
      "get_tensors found 3 tensors\n",
      "get_tensors found 3 tensors\n",
      "get_tensors found 3 tensors\n",
      "get_tensors found 3 tensors\n",
      "get_tensors found 3 tensors\n",
      "get_tensors found 3 tensors\n",
      "get_tensors found 3 tensors\n",
      "get_tensors found 3 tensors\n",
      "get_tensors found 3 tensors\n",
      "get_tensors found 3 tensors\n",
      "get_tensors found 3 tensors\n",
      "get_tensors found 3 tensors\n",
      "get_tensors found 3 tensors\n",
      "get_tensors found 3 tensors\n",
      "get_tensors found 3 tensors\n",
      "get_tensors found 3 tensors\n",
      "get_tensors found 3 tensors\n",
      "get_tensors found 3 tensors\n",
      "get_tensors found 3 tensors\n"
     ]
    },
    {
     "data": {
      "image/png": "[encoded data removed]",
      "text/plain": [
       "<Figure size 568.25x400 with 1 Axes>"
      ]
     },
     "metadata": {},
     "output_type": "display_data"
    }
   ],
   "source": [
    "# endresult: single plot, each line a similarity between o and i\n",
    "algos = [\"mag\", \"snip\", \"grasp\", \"synflow\"]\n",
    "sparsities = [0.5, 0.2, 0.01, 0.005]\n",
    "\n",
    "mapping = {\n",
    "    \"mag\": \"i\",\n",
    "    \"snip\": \"o\",\n",
    "    \"grasp\": \"o\",\n",
    "    \"synflow\": \"o\"\n",
    "}\n",
    "df = load_csv()\n",
    "results = []\n",
    "for init_id in {'5f1dd52e-dac5-11ec-b7f4-0242ac120004', '5f357f8a-dac5-11ec-831d-0242ac120002'}:\n",
    "    for sparsity in sparsities:\n",
    "        for algo in algos:\n",
    "            df_algo = df.query(f\"base_model_id == '{init_id}' and phase_0_strategy == '{algo}' and final_sparsity == {sparsity} and init_strategy == 'standard'\")\n",
    "            file1 = df_algo.query(f\"type_short == '{mapping[algo]}1'\").iloc[0][\"file\"]\n",
    "            file10= df_algo.query(f\"type_short == '{mapping[algo]}10'\").iloc[0][\"file\"]\n",
    "            sim = compare_files(file1, file10)\n",
    "            results.append({\n",
    "                \"Combination\": f\"{algo}: {mapping[algo]}1 - {mapping[algo]}10\",\n",
    "                \"Sparsity\": sparsity,\n",
    "                \"Jaccard Similarity\": sim\n",
    "\n",
    "            })\n",
    "\n",
    "g = sns.relplot(data=pd.DataFrame(results), x =\"Sparsity\", y=\"Jaccard Similarity\", hue=\"Combination\", kind=\"line\", err_style=\"bars\", height=4, aspect=1)\n",
    "g.set(\n",
    "    xlim=(1, 0.004),\n",
    "    ylim=(0, 1),\n",
    "    xscale=\"log\",\n",
    "    )\n",
    "\n",
    "savefig(g, \"5_baseline_overlap_1-10\")"
   ]
  }
 ],
 "metadata": {
  "interpreter": {
   "hash": "d4d1e4263499bec80672ea0156c357c1ee493ec2b1c70f0acce89fc37c4a6abe"
  },
  "kernelspec": {
   "display_name": "Python 3.8.13 ('base')",
   "language": "python",
   "name": "python3"
  },
  "language_info": {
   "codemirror_mode": {
    "name": "ipython",
    "version": 3
   },
   "file_extension": ".py",
   "mimetype": "text/x-python",
   "name": "python",
   "nbconvert_exporter": "python",
   "pygments_lexer": "ipython3",
   "version": "3.8.12"
  },
  "orig_nbformat": 4
 },
 "nbformat": 4,
 "nbformat_minor": 2
}
